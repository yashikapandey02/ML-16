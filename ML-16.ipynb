{
 "cells": [
  {
   "cell_type": "code",
   "execution_count": null,
   "id": "c9eb259f",
   "metadata": {},
   "outputs": [],
   "source": [
    "1. In a linear equation, what is the difference between a dependent variable and an independent variable ?\n",
    "Ans: Algebraically, a linear equation typically takes the form y = mx + b, where m and b are constants, x is the independent\n",
    "    variable, y is the dependent variable. The slope tells us how the dependent variable (y) changes for every one unit increase\n",
    "    in the independent (x) variable, on average.\n",
    "\n",
    "The variables in a study of a cause-and-effect relationship are called the independent and dependent variables. The independent \n",
    "variable is the cause. Its value is independent of other variables in your study. The dependent variable is the effect"
   ]
  },
  {
   "cell_type": "code",
   "execution_count": null,
   "id": "ad3d1a47",
   "metadata": {},
   "outputs": [],
   "source": [
    "2. What is the concept of simple linear regression? Give a specific example ?\n",
    "Ans: Simple linear regression is a regression model that estimates the relationship between one independent variable and one\n",
    "    dependent variable using a straight line. Both variables should be quantitative. Linear regression most often uses mean-\n",
    "    square error (MSE) to calculate the error of the model.\n",
    "\n",
    "For example, suppose that height was the only determinant of body weight.In this example, if an individual was 70 inches tall,\n",
    "we would predict his weight to be: Weight = 80 + 2 x (70) = 220 lbs. In this simple linear regression, we are examining the \n",
    "    impact of one independent variable on the outcome.\n"
   ]
  },
  {
   "cell_type": "code",
   "execution_count": null,
   "id": "cdb8840e",
   "metadata": {},
   "outputs": [],
   "source": [
    "3. In a linear regression, define the slope ?\n",
    "Ans: The slope of a regression line (b) represents the rate of change in y as x changes. Because y is dependent on x, the slope\n",
    "    describes the predicted values of y given x. The slope must be calculated before the y-intercept when using a linear \n",
    "    regression, as the intercept is calculated using the slope."
   ]
  },
  {
   "cell_type": "code",
   "execution_count": null,
   "id": "42ac1679",
   "metadata": {},
   "outputs": [],
   "source": [
    "4. Determine the graph's slope, where the lower point on the line is represented as (3, 2) and the higher point is represented\n",
    "as (2, 2) ?\n",
    "Ans: The graph's slope, where the lower point on the line is represented as (3, 2) and the higher point is represented as\n",
    "    (2, 2) is 0"
   ]
  },
  {
   "cell_type": "code",
   "execution_count": null,
   "id": "38844df3",
   "metadata": {},
   "outputs": [],
   "source": [
    "5. In linear regression, what are the conditions for a positive slope ?\n",
    "Ans: If the slope is positive, y increases as x increases, and the function runs \"uphill\" (going left to right). If the slope\n",
    "    is zero, y does not change, thus is constant—a horizontal line."
   ]
  },
  {
   "cell_type": "code",
   "execution_count": null,
   "id": "92c83f23",
   "metadata": {},
   "outputs": [],
   "source": [
    "6. In linear regression, what are the conditions for a negative slope ?\n",
    "Ans: If the slope is negative, y decreases as x increases and the function runs downhill."
   ]
  },
  {
   "cell_type": "code",
   "execution_count": null,
   "id": "0179a290",
   "metadata": {},
   "outputs": [],
   "source": [
    "7. What is multiple linear regression and how does it work ?\n",
    "Ans: Multiple linear regression refers to a statistical technique that uses two or more independent variables to predict the \n",
    "    outcome of a dependent variable. The technique enables analysts to determine the variation of the model and the relative \n",
    "    contribution of each independent variable in the total variance."
   ]
  },
  {
   "cell_type": "code",
   "execution_count": null,
   "id": "4aecf8d5",
   "metadata": {},
   "outputs": [],
   "source": [
    "8. In multiple linear regression, define the number of squares due to error ?\n",
    "Ans: The mean squared error (MSE) tells you how close a regression line is to a set of points. It does this by taking the \n",
    "    distances from the points to the regression line (these distances are the “errors”) and squaring them. It's called the \n",
    "    mean squared error as you're finding the average of a set of errors"
   ]
  },
  {
   "cell_type": "code",
   "execution_count": null,
   "id": "ef32aeef",
   "metadata": {},
   "outputs": [],
   "source": [
    "9. In multiple linear regression, define the number of squares due to regression ?\n",
    "Ans: Sum of squares is a statistical technique used in regression analysis to determine the dispersion of data points. In a \n",
    "    regression analysis, the goal is to determine how well a data series can be fitted to a function that might help to explain \n",
    "    how the data series was generated."
   ]
  },
  {
   "cell_type": "code",
   "execution_count": null,
   "id": "25b6f6cb",
   "metadata": {},
   "outputs": [],
   "source": [
    "10. In a regression equation, what is multicollinearity ?\n",
    "Ans: Multicollinearity occurs when two or more independent variables are highly correlated with one another in a regression \n",
    "    model. This means that an independent variable can be predicted from another independent variable in a regression model."
   ]
  },
  {
   "cell_type": "code",
   "execution_count": null,
   "id": "7b6e73cc",
   "metadata": {},
   "outputs": [],
   "source": [
    "11. What is heteroskedasticity, and what does it mean ?\n",
    "Ans: Heteroskedasticity (also spelled heteroscedasticity) refers to the error variance, or dependence of scattering, within a\n",
    "    minimum of one independent variable within a particular sample.A common cause of variances outside the minimum requirement\n",
    "    is often attributed to issues of data quality."
   ]
  },
  {
   "cell_type": "code",
   "execution_count": null,
   "id": "3b47019c",
   "metadata": {},
   "outputs": [],
   "source": [
    "12. Describe the concept of ridge regression ?\n",
    "Ans: Ridge Regression is a technique for analyzing multiple regression data that suffer from multicollinearity.By adding a\n",
    "    degree of bias to the regression estimates, ridge regression reduces the standard errors. It is hoped that the net effect\n",
    "    will be to give estimates that are more reliable.\n"
   ]
  },
  {
   "cell_type": "code",
   "execution_count": null,
   "id": "10016a8e",
   "metadata": {},
   "outputs": [],
   "source": [
    "13. Describe the concept of lasso regression ?\n",
    "Ans: In statistics and machine learning, lasso (least absolute shrinkage and selection operator; also Lasso or LASSO) is a \n",
    "    regression analysis method that performs both variable selection and regularization in order to enhance the prediction \n",
    "    accuracy and interpretability of the resulting statistical model.\n"
   ]
  },
  {
   "cell_type": "code",
   "execution_count": null,
   "id": "97f750aa",
   "metadata": {},
   "outputs": [],
   "source": [
    "14. What is polynomial regression and how does it work ?\n",
    "Ans: Polynomial Regression is a form of Linear regression known as a special case of Multiple linear regression which estimates\n",
    "    the relationship as an nth degree polynomial. Polynomial Regression is sensitive to outliers so the presence of one or two\n",
    "    outliers can also badly affect the performance."
   ]
  },
  {
   "cell_type": "code",
   "execution_count": null,
   "id": "c69a49b8",
   "metadata": {},
   "outputs": [],
   "source": [
    "15. Describe the basis function ?\n",
    "Ans: This is a generalization of linear regression that essentially replaces each input with a function of the input. \n",
    "    (A linear basis function model that uses the identity function is just linear regression.)\n"
   ]
  },
  {
   "cell_type": "code",
   "execution_count": null,
   "id": "860f2a04",
   "metadata": {},
   "outputs": [],
   "source": [
    "16. Describe how logistic regression works ?\n",
    "Ans: Logistic regression uses an equation as the representation, very much like linear regression. Input values (x) are \n",
    "    combined linearly using weights or coefficient values (referred to as the Greek capital letter Beta) to predict an output\n",
    "    value (y)."
   ]
  }
 ],
 "metadata": {
  "kernelspec": {
   "display_name": "Python 3 (ipykernel)",
   "language": "python",
   "name": "python3"
  },
  "language_info": {
   "codemirror_mode": {
    "name": "ipython",
    "version": 3
   },
   "file_extension": ".py",
   "mimetype": "text/x-python",
   "name": "python",
   "nbconvert_exporter": "python",
   "pygments_lexer": "ipython3",
   "version": "3.10.9"
  }
 },
 "nbformat": 4,
 "nbformat_minor": 5
}
